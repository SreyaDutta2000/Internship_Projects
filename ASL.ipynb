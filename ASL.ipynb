{
  "nbformat": 4,
  "nbformat_minor": 0,
  "metadata": {
    "colab": {
      "provenance": []
    },
    "kernelspec": {
      "name": "python3",
      "display_name": "Python 3"
    },
    "language_info": {
      "name": "python"
    }
  },
  "cells": [
    {
      "cell_type": "code",
      "execution_count": null,
      "metadata": {
        "id": "crLhj3qkS-mf"
      },
      "outputs": [],
      "source": [
        "import tensorflow as tf\n",
        "from tensorflow.keras import layers, models\n",
        "from tensorflow.keras.preprocessing.image import ImageDataGenerator\n",
        "import numpy as np\n",
        "import cv2\n",
        "import os"
      ]
    },
    {
      "cell_type": "code",
      "source": [
        "class ASLSignRecognizer:\n",
        "    def __init__(self, img_size=(64, 64), num_classes=29):\n",
        "        self.img_size = img_size\n",
        "        self.num_classes = num_classes\n",
        "        self.model = self._build_model()\n",
        "\n",
        "    def _build_model(self):\n",
        "        model = models.Sequential([\n",
        "            layers.Input(shape=(self.img_size[0], self.img_size[1], 3)),\n",
        "            layers.Conv2D(32, (3, 3), activation='relu'),\n",
        "            layers.MaxPooling2D((2, 2)),\n",
        "            layers.Conv2D(64, (3, 3), activation='relu'),\n",
        "            layers.MaxPooling2D((2, 2)),\n",
        "            layers.Conv2D(128, (3, 3), activation='relu'),\n",
        "            layers.MaxPooling2D((2, 2)),\n",
        "            layers.Flatten(),\n",
        "            layers.Dense(128, activation='relu'),\n",
        "            layers.Dropout(0.5),\n",
        "            layers.Dense(self.num_classes, activation='softmax')\n",
        "        ])\n",
        "\n",
        "        model.compile(optimizer='adam',\n",
        "                     loss='sparse_categorical_crossentropy',\n",
        "                     metrics=['accuracy'])\n",
        "        return model\n",
        "\n",
        "    def preprocess_image(self, image_path):\n",
        "        img = cv2.imread(image_path)\n",
        "        img = cv2.resize(img, self.img_size)\n",
        "        img = img.astype('float32') / 255.0\n",
        "        return img\n",
        "\n",
        "    def train(self, X_train, y_train, epochs=10, batch_size=32):\n",
        "        # Convert labels to numpy array if they're not already\n",
        "        y_train = np.array(y_train)\n",
        "\n",
        "        # Create data augmentation\n",
        "        datagen = ImageDataGenerator(\n",
        "            rotation_range=20,\n",
        "            width_shift_range=0.2,\n",
        "            height_shift_range=0.2,\n",
        "            horizontal_flip=True\n",
        "        )\n",
        "\n",
        "        # Train the model\n",
        "        self.model.fit(datagen.flow(X_train, y_train, batch_size=batch_size),\n",
        "                      epochs=epochs,\n",
        "                      validation_split=0.2)\n",
        "\n",
        "    def predict(self, image_path):\n",
        "        img = self.preprocess_image(image_path)\n",
        "        img = np.expand_dims(img, axis=0)\n",
        "        prediction = self.model.predict(img)\n",
        "        return np.argmax(prediction)\n",
        "\n",
        "    def save_model(self, filepath):\n",
        "        self.model.save(filepath)\n",
        "\n",
        "    def load_model(self, filepath):\n",
        "        self.model = tf.keras.models.load_model(filepath)"
      ],
      "metadata": {
        "id": "uiPkiKf2TasM"
      },
      "execution_count": null,
      "outputs": []
    },
    {
      "cell_type": "code",
      "source": [
        "def class_to_label(class_id):\n",
        "    if class_id < 26:  # Letters A-Z\n",
        "        return chr(65 + class_id)  # Converts 0-25 to 'A'-'Z'\n",
        "    elif class_id == 26:  # Space\n",
        "        return \" \"\n",
        "    elif class_id == 27:  # Delete\n",
        "        return \"DEL\"\n",
        "    else:  # Nothing\n",
        "        return \"NOTHING\""
      ],
      "metadata": {
        "id": "A0cxV-8cTzKn"
      },
      "execution_count": null,
      "outputs": []
    },
    {
      "cell_type": "code",
      "source": [
        "import pandas as pd\n",
        "dataset=pd.read_csv('asl_dataset.csv')\n",
        "\n",
        "# Initialize recognizer\n",
        "recognizer = ASLSignRecognizer()\n",
        "\n",
        "# Train the model\n",
        "recognizer.train(X_train, y_train, epochs=10)\n",
        "\n",
        "# Save the model\n",
        "recognizer.save_model('asl_model.h5')\n",
        "\n",
        "# Load the model\n",
        "recognizer.load_model('asl_model.h5')\n",
        "\n",
        "# Predict on a new image\n",
        "prediction = recognizer.predict(\"asl_image.jpg\")\n",
        "print(f\"Predicted sign: {class_to_label(prediction)}\")"
      ],
      "metadata": {
        "id": "TEnAcfPYtAPQ"
      },
      "execution_count": null,
      "outputs": []
    }
  ]
}